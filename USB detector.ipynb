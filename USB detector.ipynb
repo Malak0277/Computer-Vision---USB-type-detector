{
 "cells": [
  {
   "cell_type": "markdown",
   "id": "bf658c64",
   "metadata": {},
   "source": [
    "# USB Image Processing Pipeline"
   ]
  },
  {
   "cell_type": "markdown",
   "id": "5ca69bb9",
   "metadata": {},
   "source": [
    "## 1. Image Loading and Preprocessing\n",
    "Loading the image and converting it to grayscale for further processing."
   ]
  },
  {
   "cell_type": "code",
   "execution_count": 2,
   "id": "f994e57b",
   "metadata": {},
   "outputs": [
    {
     "name": "stderr",
     "output_type": "stream",
     "text": [
      "[ WARN:0@156.757] global loadsave.cpp:268 findDecoder imread_('test.jpg'): can't open/read file: check file path/integrity\n"
     ]
    },
    {
     "ename": "error",
     "evalue": "OpenCV(4.11.0) /Users/xperience/GHA-Actions-OpenCV/_work/opencv-python/opencv-python/opencv/modules/imgproc/src/color.cpp:199: error: (-215:Assertion failed) !_src.empty() in function 'cvtColor'\n",
     "output_type": "error",
     "traceback": [
      "\u001b[31m---------------------------------------------------------------------------\u001b[39m",
      "\u001b[31merror\u001b[39m                                     Traceback (most recent call last)",
      "\u001b[36mCell\u001b[39m\u001b[36m \u001b[39m\u001b[32mIn[2]\u001b[39m\u001b[32m, line 8\u001b[39m\n\u001b[32m      5\u001b[39m img = cv.imread(\u001b[33m'\u001b[39m\u001b[33mtest.jpg\u001b[39m\u001b[33m'\u001b[39m)\n\u001b[32m      6\u001b[39m \u001b[38;5;66;03m#cv.imshow('original image', img)\u001b[39;00m\n\u001b[32m----> \u001b[39m\u001b[32m8\u001b[39m img = \u001b[43mcv\u001b[49m\u001b[43m.\u001b[49m\u001b[43mcvtColor\u001b[49m\u001b[43m(\u001b[49m\u001b[43mimg\u001b[49m\u001b[43m,\u001b[49m\u001b[43m \u001b[49m\u001b[43mcv\u001b[49m\u001b[43m.\u001b[49m\u001b[43mCOLOR_BGR2GRAY\u001b[49m\u001b[43m)\u001b[49m\n\u001b[32m      9\u001b[39m \u001b[38;5;66;03m#cv.imshow('gray image', img)\u001b[39;00m\n",
      "\u001b[31merror\u001b[39m: OpenCV(4.11.0) /Users/xperience/GHA-Actions-OpenCV/_work/opencv-python/opencv-python/opencv/modules/imgproc/src/color.cpp:199: error: (-215:Assertion failed) !_src.empty() in function 'cvtColor'\n"
     ]
    }
   ],
   "source": [
    "import cv2 as cv\n",
    "import numpy as np\n",
    "import matplotlib.pyplot as plt\n",
    "\n",
    "img = cv.imread('test.jpg')\n",
    "#cv.imshow('original image', img)\n",
    "\n",
    "img = cv.cvtColor(img, cv.COLOR_BGR2GRAY)\n",
    "#cv.imshow('gray image', img)"
   ]
  },
  {
   "cell_type": "markdown",
   "id": "846b905a",
   "metadata": {},
   "source": [
    "## 2. Image Enhancement\n",
    "Applying Gaussian blur to reduce noise."
   ]
  },
  {
   "cell_type": "code",
   "execution_count": 18,
   "id": "334a98c5",
   "metadata": {},
   "outputs": [],
   "source": [
    "gaussian_img = cv.GaussianBlur(img, (7,7), 0)\n",
    "#cv.imshow('blurred image', gaussian_img)"
   ]
  },
  {
   "cell_type": "markdown",
   "id": "05566876",
   "metadata": {},
   "source": [
    "## 3. Edge Detection\n",
    "Applying Canny edge detection to identify object boundaries."
   ]
  },
  {
   "cell_type": "code",
   "execution_count": 19,
   "id": "ef8d31a3",
   "metadata": {},
   "outputs": [],
   "source": [
    "canny_img = cv.Canny(gaussian_img, 125, 175)\n",
    "#cv.imshow('canny', canny_img)"
   ]
  },
  {
   "cell_type": "markdown",
   "id": "21d1993e",
   "metadata": {},
   "source": [
    "## 4. Contour Analysis\n",
    "Finding and processing the largest contour to isolate the USB device."
   ]
  },
  {
   "cell_type": "code",
   "execution_count": 20,
   "id": "2be267d3",
   "metadata": {},
   "outputs": [],
   "source": [
    "contours, _ = cv.findContours(canny_img, cv.RETR_LIST, cv.CHAIN_APPROX_SIMPLE)\n",
    "\n",
    "# Filter by area (keep largest contour = USB)\n",
    "largest_contour = max(contours, key=cv.contourArea)\n",
    "\n",
    "# Create a mask for the USB\n",
    "mask = np.zeros(img.shape[:2], dtype='uint8')\n",
    "cv.drawContours(mask, [largest_contour], -1, 255, thickness=cv.FILLED)\n",
    "#cv.imshow('USB mask', mask)\n",
    "\n",
    "\n",
    "# Apply the mask to the original image\n",
    "result = cv.bitwise_and(canny_img, canny_img, mask=mask)\n",
    "cv.imshow('result', result)\n"
   ]
  },
  {
   "cell_type": "code",
   "execution_count": 21,
   "id": "47ab2ea4",
   "metadata": {},
   "outputs": [],
   "source": [
    "cv.waitKey(0)\n",
    "cv.destroyAllWindows()"
   ]
  }
 ],
 "metadata": {
  "kernelspec": {
   "display_name": "Python 3",
   "language": "python",
   "name": "python3"
  },
  "language_info": {
   "codemirror_mode": {
    "name": "ipython",
    "version": 3
   },
   "file_extension": ".py",
   "mimetype": "text/x-python",
   "name": "python",
   "nbconvert_exporter": "python",
   "pygments_lexer": "ipython3",
   "version": "3.12.8"
  }
 },
 "nbformat": 4,
 "nbformat_minor": 5
}
