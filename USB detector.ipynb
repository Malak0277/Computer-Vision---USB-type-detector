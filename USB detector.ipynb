{
 "cells": [
  {
   "cell_type": "markdown",
   "id": "bf658c64",
   "metadata": {},
   "source": [
    "# USB Image Processing Pipeline"
   ]
  },
  {
   "cell_type": "markdown",
   "id": "5ca69bb9",
   "metadata": {},
   "source": [
    "## 1. Image Loading and Preprocessing\n",
    "Loading the image and converting it to grayscale for further processing."
   ]
  },
  {
   "cell_type": "code",
   "execution_count": 17,
   "id": "f994e57b",
   "metadata": {},
   "outputs": [],
   "source": [
    "import cv2 as cv\n",
    "import numpy as np\n",
    "import matplotlib.pyplot as plt\n",
    "\n",
    "img = cv.imread('test.jpg')\n",
    "#cv.imshow('original image', img)\n",
    "\n",
    "img = cv.cvtColor(img, cv.COLOR_BGR2GRAY)\n",
    "#cv.imshow('gray image', img)"
   ]
  },
  {
   "cell_type": "markdown",
   "id": "846b905a",
   "metadata": {},
   "source": [
    "## 2. Image Enhancement\n",
    "Applying Gaussian blur to reduce noise."
   ]
  },
  {
   "cell_type": "code",
   "execution_count": 18,
   "id": "334a98c5",
   "metadata": {},
   "outputs": [],
   "source": [
    "gaussian_img = cv.GaussianBlur(img, (7,7), 0)\n",
    "#cv.imshow('blurred image', gaussian_img)"
   ]
  },
  {
   "cell_type": "markdown",
   "id": "05566876",
   "metadata": {},
   "source": [
    "## 3. Edge Detection\n",
    "Applying Canny edge detection to identify object boundaries."
   ]
  },
  {
   "cell_type": "code",
   "execution_count": 19,
   "id": "ef8d31a3",
   "metadata": {},
   "outputs": [],
   "source": [
    "canny_img = cv.Canny(gaussian_img, 125, 175)\n",
    "#cv.imshow('canny', canny_img)"
   ]
  },
  {
   "cell_type": "markdown",
   "id": "21d1993e",
   "metadata": {},
   "source": [
    "## 4. Contour Analysis\n",
    "Finding and processing the largest contour to isolate the USB device."
   ]
  },
  {
   "cell_type": "code",
   "execution_count": 20,
   "id": "2be267d3",
   "metadata": {},
   "outputs": [],
   "source": [
    "contours, _ = cv.findContours(canny_img, cv.RETR_LIST, cv.CHAIN_APPROX_SIMPLE)\n",
    "\n",
    "# Filter by area (keep largest contour = USB)\n",
    "largest_contour = max(contours, key=cv.contourArea)\n",
    "\n",
    "# Create a mask for the USB\n",
    "mask = np.zeros(img.shape[:2], dtype='uint8')\n",
    "cv.drawContours(mask, [largest_contour], -1, 255, thickness=cv.FILLED)\n",
    "#cv.imshow('USB mask', mask)\n",
    "\n",
    "\n",
    "# Apply the mask to the original image\n",
    "result = cv.bitwise_and(canny_img, canny_img, mask=mask)\n",
    "cv.imshow('result', result)\n"
   ]
  },
  {
   "cell_type": "code",
   "execution_count": 21,
   "id": "47ab2ea4",
   "metadata": {},
   "outputs": [],
   "source": [
    "cv.waitKey(0)\n",
    "cv.destroyAllWindows()"
   ]
  }
 ],
 "metadata": {
  "kernelspec": {
   "display_name": "Python 3",
   "language": "python",
   "name": "python3"
  },
  "language_info": {
   "codemirror_mode": {
    "name": "ipython",
    "version": 3
   },
   "file_extension": ".py",
   "mimetype": "text/x-python",
   "name": "python",
   "nbconvert_exporter": "python",
   "pygments_lexer": "ipython3",
   "version": "3.12.6"
  }
 },
 "nbformat": 4,
 "nbformat_minor": 5
}
